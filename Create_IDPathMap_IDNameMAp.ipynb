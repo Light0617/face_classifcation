{
 "cells": [
  {
   "cell_type": "code",
   "execution_count": 1,
   "metadata": {
    "collapsed": true
   },
   "outputs": [],
   "source": [
    "import os\n",
    "import argparse\n",
    "import pickle\n",
    "import numpy as np\n",
    "import scipy.io as sio\n",
    "import scipy.misc as spm\n",
    "import datetime\n",
    "import matplotlib.image as plt"
   ]
  },
  {
   "cell_type": "code",
   "execution_count": 2,
   "metadata": {
    "collapsed": true
   },
   "outputs": [],
   "source": [
    "IMG_DIR = 'imdb_crop'\n",
    "MAT_FILE = 'imdb.mat'\n",
    "mat_struct = sio.loadmat(os.path.join(IMG_DIR, MAT_FILE))\n",
    "data_set = [data[0] for data in mat_struct['imdb'][0, 0]]"
   ]
  },
  {
   "cell_type": "code",
   "execution_count": 3,
   "metadata": {
    "collapsed": true
   },
   "outputs": [],
   "source": [
    "keys = ['dob',\n",
    "        'photo_taken',\n",
    "        'full_path',\n",
    "        'gender',\n",
    "        'name',\n",
    "        'face_location',\n",
    "            'face_score',\n",
    "        'second_face_score',\n",
    "        'celeb_names',\n",
    "        'celeb_id'\n",
    "        ]"
   ]
  },
  {
   "cell_type": "code",
   "execution_count": 4,
   "metadata": {
    "collapsed": true
   },
   "outputs": [],
   "source": [
    "imdb_dict = dict(zip(keys, np.asarray(data_set)))"
   ]
  },
  {
   "cell_type": "code",
   "execution_count": 32,
   "metadata": {},
   "outputs": [],
   "source": [
    "from collections import defaultdict\n",
    "ID_path_map = defaultdict(list)\n",
    "for x, y, z, w in zip(imdb_dict['celeb_names'], imdb_dict['name'], imdb_dict['celeb_id'], imdb_dict['full_path']):\n",
    "    w = w[0]\n",
    "    new_path = 'total/' + w[w.find('/')+1:]\n",
    "    ID_path_map[z].append(new_path)"
   ]
  },
  {
   "cell_type": "code",
   "execution_count": 35,
   "metadata": {},
   "outputs": [
    {
     "name": "stdout",
     "output_type": "stream",
     "text": [
      "133\n"
     ]
    }
   ],
   "source": [
    "print len(ID_path_map)#133 stars"
   ]
  },
  {
   "cell_type": "code",
   "execution_count": 37,
   "metadata": {},
   "outputs": [],
   "source": [
    "#test ID name is ok or not\n",
    "ID_name_map = {}\n",
    "for x, y, z, w in zip(imdb_dict['celeb_names'], imdb_dict['name'], imdb_dict['celeb_id'], imdb_dict['full_path']):\n",
    "    y = y[0]\n",
    "    if z in ID_name_map and ID_name_map[z] != y:\n",
    "        print z, y\n",
    "    else:\n",
    "        ID_name_map[z] = y"
   ]
  },
  {
   "cell_type": "code",
   "execution_count": 38,
   "metadata": {},
   "outputs": [
    {
     "name": "stdout",
     "output_type": "stream",
     "text": [
      "133\n"
     ]
    }
   ],
   "source": [
    "print len(ID_name_map)"
   ]
  },
  {
   "cell_type": "code",
   "execution_count": 41,
   "metadata": {},
   "outputs": [
    {
     "name": "stdout",
     "output_type": "stream",
     "text": [
      "19970 William Holden\n",
      "13320 Mel Gibson\n",
      "4620 David Duchovny\n",
      "8718 Jeff Goldblum\n",
      "9743 John Wayne\n",
      "11797 Li Gong\n"
     ]
    }
   ],
   "source": [
    "i = 0\n",
    "for key in ID_name_map:\n",
    "    print key, ID_name_map[key]\n",
    "    i += 1\n",
    "    if i > 5: break"
   ]
  },
  {
   "cell_type": "code",
   "execution_count": 43,
   "metadata": {},
   "outputs": [
    {
     "name": "stdout",
     "output_type": "stream",
     "text": [
      "done\n",
      "done\n"
     ]
    }
   ],
   "source": [
    "with open('ID_name_map.pickle', 'wb') as handle:\n",
    "    pickle.dump(ID_name_map, handle, protocol=pickle.HIGHEST_PROTOCOL)\n",
    "print 'done'\n",
    "with open('ID_path_map.pickle', 'wb') as handle:\n",
    "    pickle.dump(ID_path_map, handle, protocol=pickle.HIGHEST_PROTOCOL)\n",
    "print 'done'"
   ]
  },
  {
   "cell_type": "code",
   "execution_count": null,
   "metadata": {
    "collapsed": true
   },
   "outputs": [],
   "source": []
  }
 ],
 "metadata": {
  "kernelspec": {
   "display_name": "Python 2",
   "language": "python",
   "name": "python2"
  },
  "language_info": {
   "codemirror_mode": {
    "name": "ipython",
    "version": 2
   },
   "file_extension": ".py",
   "mimetype": "text/x-python",
   "name": "python",
   "nbconvert_exporter": "python",
   "pygments_lexer": "ipython2",
   "version": "2.7.14"
  }
 },
 "nbformat": 4,
 "nbformat_minor": 2
}
