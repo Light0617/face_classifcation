{
 "cells": [
  {
   "cell_type": "code",
   "execution_count": 1,
   "metadata": {
    "collapsed": true
   },
   "outputs": [],
   "source": [
    "import os\n",
    "import argparse\n",
    "import pickle\n",
    "import numpy as np\n",
    "import scipy.io as sio\n",
    "import scipy.misc as spm\n",
    "import datetime\n",
    "import matplotlib.image as plt"
   ]
  },
  {
   "cell_type": "code",
   "execution_count": 2,
   "metadata": {
    "collapsed": true
   },
   "outputs": [],
   "source": [
    "IMG_DIR = 'imdb_crop'\n",
    "MAT_FILE = 'imdb.mat'\n",
    "mat_struct = sio.loadmat(os.path.join(IMG_DIR, MAT_FILE))\n",
    "data_set = [data[0] for data in mat_struct['imdb'][0, 0]]"
   ]
  },
  {
   "cell_type": "code",
   "execution_count": 3,
   "metadata": {
    "collapsed": true
   },
   "outputs": [],
   "source": [
    "keys = ['dob',\n",
    "        'photo_taken',\n",
    "        'full_path',\n",
    "        'gender',\n",
    "        'name',\n",
    "        'face_location',\n",
    "            'face_score',\n",
    "        'second_face_score',\n",
    "        'celeb_names',\n",
    "        'celeb_id'\n",
    "        ]"
   ]
  },
  {
   "cell_type": "code",
   "execution_count": 4,
   "metadata": {
    "collapsed": true
   },
   "outputs": [],
   "source": [
    "imdb_dict = dict(zip(keys, np.asarray(data_set)))"
   ]
  },
  {
   "cell_type": "code",
   "execution_count": 5,
   "metadata": {},
   "outputs": [],
   "source": [
    "file_paths = []\n",
    "for x, y, z, w in zip(imdb_dict['celeb_names'], imdb_dict['name'], imdb_dict['celeb_id'], imdb_dict['full_path']):\n",
    "    file_paths.append(w)"
   ]
  },
  {
   "cell_type": "code",
   "execution_count": 6,
   "metadata": {},
   "outputs": [
    {
     "name": "stdout",
     "output_type": "stream",
     "text": [
      "20284\n"
     ]
    }
   ],
   "source": [
    "print len(file_paths)"
   ]
  },
  {
   "cell_type": "code",
   "execution_count": 10,
   "metadata": {},
   "outputs": [],
   "source": [
    "with open('file_paths.txt', 'wb') as outfile:\n",
    "    for x in file_paths:\n",
    "        outfile.write(x)\n",
    "        outfile.write('\\n')"
   ]
  },
  {
   "cell_type": "code",
   "execution_count": 11,
   "metadata": {},
   "outputs": [
    {
     "name": "stdout",
     "output_type": "stream",
     "text": [
      "[u'01/nm0000001_rm124825600_1899-5-10_1968.jpg']\n",
      "[u'01/nm0000001_rm3343756032_1899-5-10_1970.jpg']\n",
      "[u'01/nm0000001_rm577153792_1899-5-10_1968.jpg']\n",
      "[u'01/nm0000001_rm946909184_1899-5-10_1968.jpg']\n",
      "[u'01/nm0000001_rm980463616_1899-5-10_1968.jpg']\n"
     ]
    }
   ],
   "source": [
    "for x in file_paths[:5]:\n",
    "    print(x)"
   ]
  },
  {
   "cell_type": "code",
   "execution_count": null,
   "metadata": {
    "collapsed": true
   },
   "outputs": [],
   "source": []
  }
 ],
 "metadata": {
  "kernelspec": {
   "display_name": "Python 2",
   "language": "python",
   "name": "python2"
  },
  "language_info": {
   "codemirror_mode": {
    "name": "ipython",
    "version": 2
   },
   "file_extension": ".py",
   "mimetype": "text/x-python",
   "name": "python",
   "nbconvert_exporter": "python",
   "pygments_lexer": "ipython2",
   "version": "2.7.14"
  }
 },
 "nbformat": 4,
 "nbformat_minor": 2
}
