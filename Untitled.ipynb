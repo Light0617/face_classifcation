{
 "cells": [
  {
   "cell_type": "code",
   "execution_count": 1,
   "metadata": {},
   "outputs": [
    {
     "ename": "ModuleNotFoundError",
     "evalue": "No module named 'openface'",
     "output_type": "error",
     "traceback": [
      "\u001b[0;31m---------------------------------------------------------------------------\u001b[0m",
      "\u001b[0;31mModuleNotFoundError\u001b[0m                       Traceback (most recent call last)",
      "\u001b[0;32m<ipython-input-1-9132a406ff02>\u001b[0m in \u001b[0;36m<module>\u001b[0;34m()\u001b[0m\n\u001b[1;32m     11\u001b[0m \u001b[0mnp\u001b[0m\u001b[0;34m.\u001b[0m\u001b[0mset_printoptions\u001b[0m\u001b[0;34m(\u001b[0m\u001b[0mprecision\u001b[0m\u001b[0;34m=\u001b[0m\u001b[0;36m2\u001b[0m\u001b[0;34m)\u001b[0m\u001b[0;34m\u001b[0m\u001b[0m\n\u001b[1;32m     12\u001b[0m \u001b[0;34m\u001b[0m\u001b[0m\n\u001b[0;32m---> 13\u001b[0;31m \u001b[0;32mimport\u001b[0m \u001b[0mopenface\u001b[0m\u001b[0;34m\u001b[0m\u001b[0m\n\u001b[0m\u001b[1;32m     14\u001b[0m \u001b[0;34m\u001b[0m\u001b[0m\n\u001b[1;32m     15\u001b[0m \u001b[0mfileDir\u001b[0m \u001b[0;34m=\u001b[0m \u001b[0mos\u001b[0m\u001b[0;34m.\u001b[0m\u001b[0mpath\u001b[0m\u001b[0;34m.\u001b[0m\u001b[0mdirname\u001b[0m\u001b[0;34m(\u001b[0m\u001b[0mos\u001b[0m\u001b[0;34m.\u001b[0m\u001b[0mpath\u001b[0m\u001b[0;34m.\u001b[0m\u001b[0mrealpath\u001b[0m\u001b[0;34m(\u001b[0m\u001b[0m__file__\u001b[0m\u001b[0;34m)\u001b[0m\u001b[0;34m)\u001b[0m\u001b[0;34m\u001b[0m\u001b[0m\n",
      "\u001b[0;31mModuleNotFoundError\u001b[0m: No module named 'openface'"
     ]
    }
   ],
   "source": [
    "import time\n",
    "\n",
    "start = time.time()\n",
    "\n",
    "import argparse\n",
    "import cv2\n",
    "import itertools\n",
    "import os\n",
    "\n",
    "import numpy as np\n",
    "np.set_printoptions(precision=2)\n",
    "\n",
    "import openface\n",
    "\n",
    "fileDir = os.path.dirname(os.path.realpath(__file__))\n",
    "modelDir = os.path.join(fileDir, '..', 'models')\n",
    "dlibModelDir = os.path.join(modelDir, 'dlib')\n",
    "openfaceModelDir = os.path.join(modelDir, 'openface')\n",
    "\n",
    "parser = argparse.ArgumentParser()\n",
    "\n",
    "parser.add_argument('imgs', type=str, nargs='+', help=\"Input images.\")\n",
    "parser.add_argument('--dlibFacePredictor', type=str, help=\"Path to dlib's face predictor.\",\n",
    "                    default=os.path.join(dlibModelDir, \"shape_predictor_68_face_landmarks.dat\"))\n",
    "parser.add_argument('--networkModel', type=str, help=\"Path to Torch network model.\",\n",
    "                    default=os.path.join(openfaceModelDir, 'nn4.small2.v1.t7'))\n",
    "parser.add_argument('--imgDim', type=int,\n",
    "                    help=\"Default image dimension.\", default=96)\n",
    "parser.add_argument('--verbose', action='store_true')\n",
    "\n",
    "args = parser.parse_args()\n",
    "\n",
    "if args.verbose:\n",
    "    print(\"Argument parsing and loading libraries took {} seconds.\".format(\n",
    "        time.time() - start))\n",
    "\n",
    "start = time.time()\n",
    "align = openface.AlignDlib(args.dlibFacePredictor)\n",
    "net = openface.TorchNeuralNet(args.networkModel, args.imgDim)\n",
    "if args.verbose:\n",
    "    print(\"Loading the dlib and OpenFace models took {} seconds.\".format(\n",
    "        time.time() - start))"
   ]
  },
  {
   "cell_type": "code",
   "execution_count": null,
   "metadata": {
    "collapsed": true
   },
   "outputs": [],
   "source": [
    "\n",
    "\n",
    "def getRep(imgPath):\n",
    "    if args.verbose:\n",
    "        print(\"Processing {}.\".format(imgPath))\n",
    "    bgrImg = cv2.imread(imgPath)\n",
    "    if bgrImg is None:\n",
    "        raise Exception(\"Unable to load image: {}\".format(imgPath))\n",
    "    rgbImg = cv2.cvtColor(bgrImg, cv2.COLOR_BGR2RGB)\n",
    "\n",
    "    if args.verbose:\n",
    "        print(\"  + Original size: {}\".format(rgbImg.shape))\n",
    "\n",
    "    start = time.time()\n",
    "    bb = align.getLargestFaceBoundingBox(rgbImg)\n",
    "    if bb is None:\n",
    "        raise Exception(\"Unable to find a face: {}\".format(imgPath))\n",
    "    if args.verbose:\n",
    "        print(\"  + Face detection took {} seconds.\".format(time.time() - start))\n",
    "\n",
    "    start = time.time()\n",
    "    alignedFace = align.align(args.imgDim, rgbImg, bb,\n",
    "                              landmarkIndices=openface.AlignDlib.OUTER_EYES_AND_NOSE)\n",
    "    if alignedFace is None:\n",
    "        raise Exception(\"Unable to align image: {}\".format(imgPath))\n",
    "    if args.verbose:\n",
    "        print(\"  + Face alignment took {} seconds.\".format(time.time() - start))\n",
    "\n",
    "    start = time.time()\n",
    "    rep = net.forward(alignedFace)\n",
    "    if args.verbose:\n",
    "        print(\"  + OpenFace forward pass took {} seconds.\".format(time.time() - start))\n",
    "        print(\"Representation:\")\n",
    "        print(rep)\n",
    "        print(\"-----\\n\")\n",
    "    return rep\n",
    "\n",
    "for (img1, img2) in itertools.combinations(args.imgs, 2):\n",
    "    d = getRep(img1) - getRep(img2)\n",
    "    print(\"Comparing {} with {}.\".format(img1, img2))\n",
    "    print(\n",
    "        \"  + Squared l2 distance between representations: {:0.3f}\".format(np.dot(d, d)))"
   ]
  }
 ],
 "metadata": {
  "kernelspec": {
   "display_name": "Python 3",
   "language": "python",
   "name": "python3"
  },
  "language_info": {
   "codemirror_mode": {
    "name": "ipython",
    "version": 3
   },
   "file_extension": ".py",
   "mimetype": "text/x-python",
   "name": "python",
   "nbconvert_exporter": "python",
   "pygments_lexer": "ipython3",
   "version": "3.6.4"
  }
 },
 "nbformat": 4,
 "nbformat_minor": 2
}
